{
 "cells": [
  {
   "cell_type": "markdown",
   "metadata": {},
   "source": [
    "## Introduction\n",
    "\n",
    "This notebook is intended for the beginners. It covers the basics and fundamentals of Pyhton which are essential for making an understanding of language.\n",
    "\n",
    "This is first in the series, I will come up with a similar notebook for advanced level as well.\n",
    "\n",
    "After looking at number of sites and tutorials, i found https://thepythonguru.com/ really helpful for learning, in a way that it has clearly laidout topics for beginners as well as for the people at advanced level. \n",
    "\n",
    "I will not cover the theory in this notebook as the same is available at the above mentioned site as well, rather i will back it up with the example and code snippets that i have created for my learning. That way you will have access to the more code examples.\n",
    "\n",
    "Also, i have code examples on the topics which you will not find in the site itslef but i have created by comparing it to Java.\n",
    "\n",
    "The idea is that you create you general understanding of the language using the following links:\n",
    "\n",
    "https://thepythonguru.com/getting-started-with-python/\n",
    "https://thepythonguru.com/installing-python3/\n",
    "https://thepythonguru.com/running-python-programs/\n",
    "https://thepythonguru.com/datatype-varibles/\n",
    "https://thepythonguru.com/python-numbers/\n",
    "https://thepythonguru.com/python-strings/\n",
    "https://thepythonguru.com/python-lists/\n",
    "https://thepythonguru.com/python-dictionaries/\n",
    "https://thepythonguru.com/python-tuples/\n",
    "https://thepythonguru.com/datatype-conversion/\n",
    "https://thepythonguru.com/python-numbers/\n",
    "https://thepythonguru.com/python-strings/\n",
    "\n",
    "Once you have the general understanding then you can start using this notebook for the code examples. The code examples are in the same order as the topics covered at pythonguru, so to get the most out of it first understand the topic from there and then use this notebook for extensive examples. If you have reached this far, then you know what i am talking about :)\n",
    "\n",
    "\n",
    "TODO:\n",
    "\n",
    "Advanced topics to be explored:\n",
    "Static vs non-static variables & methods\n",
    "Calling a method from the constructor, like the one in 'Oprator Overloading'\n",
    "Different Collections like Set\n"
   ]
  },
  {
   "cell_type": "code",
   "execution_count": 4,
   "metadata": {},
   "outputs": [
    {
     "name": "stdout",
     "output_type": "stream",
     "text": [
      "1\n"
     ]
    }
   ],
   "source": [
    "## \n",
    "# Using if else clauses\n",
    "##\n",
    "\n",
    "month = 'Jan'\n",
    "year = '2019'\n",
    "if((month=='Jan') or year=='2018'):\n",
    "    print('1')\n",
    "elif( year=='2019'):\n",
    "    print('2')\n",
    "else:\n",
    "    print('default')"
   ]
  },
  {
   "cell_type": "code",
   "execution_count": 5,
   "metadata": {},
   "outputs": [
    {
     "data": {
      "text/plain": [
       "15"
      ]
     },
     "execution_count": 5,
     "metadata": {},
     "output_type": "execute_result"
    }
   ],
   "source": [
    "## \n",
    "# Functions declaration and calling\n",
    "##\n",
    "def sum(start, end):\n",
    "    if(start is None or end is None):\n",
    "        print('start and end are mandatory')\n",
    "    elif(start >= end):\n",
    "        print('start must be smaller than end')\n",
    "    else:\n",
    "        total = 0\n",
    "        for i in range(start, end+1):\n",
    "            total = total + i\n",
    "        return total\n",
    "    \n",
    "sum(1,5)\n",
    "        "
   ]
  },
  {
   "cell_type": "code",
   "execution_count": 54,
   "metadata": {},
   "outputs": [
    {
     "name": "stdout",
     "output_type": "stream",
     "text": [
      "global var\n"
     ]
    }
   ],
   "source": [
    "##\n",
    "# Use of global keywoard\n",
    "## \n",
    "\n",
    "def testing():\n",
    "    testing_local = 'local var'\n",
    "    global testing_global #value to global can not be assigned while declaration.\n",
    "    testing_global = 'global var'\n",
    "\n",
    "testing()\n",
    "#print(testing_local) -> This will throw an error stating testing_local is not defined, try uncommenting and explore\n",
    "print(testing_global)\n",
    "    "
   ]
  },
  {
   "cell_type": "code",
   "execution_count": null,
   "metadata": {},
   "outputs": [],
   "source": [
    "##\n",
    "# Arguments with default value\n",
    "## \n",
    "\n",
    "def testing_default_1(var1, var2=None):\n",
    "    \n",
    "    #testing_default_1(1,1) -> Uncomment this code and see the magic!!\n",
    "    return str(var1) + \" , \" + str(var2) \n",
    "  \n",
    "    \n",
    "print(testing_default_1(1,2), \"\\n\")\n",
    "print(testing_default_1(1), \"\\n\")"
   ]
  },
  {
   "cell_type": "code",
   "execution_count": 35,
   "metadata": {},
   "outputs": [
    {
     "data": {
      "text/plain": [
       "3"
      ]
     },
     "execution_count": 35,
     "metadata": {},
     "output_type": "execute_result"
    }
   ],
   "source": [
    "##\n",
    "# Method overloading \n",
    "##\n",
    "def overload(var1):\n",
    "    return var1\n",
    "\n",
    "def overload(var2, var3):\n",
    "    return var2 + var3\n",
    "\n",
    "#overload(1) -> Executing this line will result in error as method overloading is not supported in Pyhton\n",
    "#always the latest defination is considered for execution. \n",
    "\n",
    "#Following call will work just fine\n",
    "overload(1,2)\n",
    "\n"
   ]
  },
  {
   "cell_type": "code",
   "execution_count": 34,
   "metadata": {},
   "outputs": [
    {
     "name": "stdout",
     "output_type": "stream",
     "text": [
      "True\n",
      "two argument\n"
     ]
    },
    {
     "data": {
      "text/plain": [
       "[True, 2]"
      ]
     },
     "execution_count": 34,
     "metadata": {},
     "output_type": "execute_result"
    }
   ],
   "source": [
    "\n",
    "##############################################\n",
    "# However you can still have the same method doing different things based on the number of arguments. It is done\n",
    "#using the varargs\n",
    "##############################################\n",
    "\n",
    "def varArgsExampleMethod(*args):\n",
    "    if(args is not None):\n",
    "        returnContainer = []\n",
    "        length = len(args)\n",
    "        if(length > 0):\n",
    "            global sameType\n",
    "            sameType = False\n",
    "            currentType = None\n",
    "            for i in args:\n",
    "                if(currentType is None):\n",
    "                    currentType = type(i)\n",
    "                elif(type(i) == currentType):\n",
    "                    sameType = True\n",
    "                    continue\n",
    "                else:\n",
    "                    sameType = False\n",
    "                    break\n",
    "            print(sameType)\n",
    "            returnContainer.append(sameType) \n",
    "            \n",
    "        if(length == 0):\n",
    "            print('Please provide atleast one argument')\n",
    "            returnContainer.append(0)\n",
    "        elif(length == 1):\n",
    "            print('one argument')\n",
    "            returnContainer.append(1)\n",
    "        elif(length == 2):\n",
    "            print('two argument')\n",
    "            returnContainer.append(2)\n",
    "        elif(length == 3):\n",
    "            print('three argument')\n",
    "            returnContainer.append(3)\n",
    "        else:\n",
    "            print('More than three arguments')\n",
    "            returnContainer.append(4)\n",
    "    ##\n",
    "    # In python a method can return multiple objects, unlike Java where only one object can be returned.\n",
    "    # One way of doing it is to create a wrapper object & return it\n",
    "    # Another way is by seperating the multiple objects by comma.\n",
    "    # Both ways shown below\n",
    "    ##\n",
    "    \n",
    "    return returnContainer\n",
    "    #return sameType, 0\n",
    "\n",
    "varArgsExampleMethod(2,1)\n",
    "            \n",
    "    "
   ]
  },
  {
   "cell_type": "code",
   "execution_count": 43,
   "metadata": {},
   "outputs": [
    {
     "name": "stdout",
     "output_type": "stream",
     "text": [
      "--------------1st variant: Start--------------\n",
      "0\n",
      "1\n",
      "2\n",
      "3\n",
      "4\n",
      "5\n",
      "6\n",
      "7\n",
      "8\n",
      "9\n",
      "--------------1st variant: End--------------\n",
      "--------------2nd variant: Start--------------\n",
      "2\n",
      "3\n",
      "4\n",
      "--------------2nd variant: End--------------\n",
      "--------------3rd variant: Start--------------\n",
      "0\n",
      "2\n",
      "4\n",
      "6\n",
      "8\n",
      "--------------3rd variant: End--------------\n"
     ]
    }
   ],
   "source": [
    "##\n",
    "# Range Method\n",
    "# There are 3 variants of range method, one which takes just the end number, second which takes the start and end & third whcih also takes the step size\n",
    "##\n",
    "print('--------------1st variant: Start--------------')\n",
    "for i in range(10):\n",
    "    print(i)\n",
    "print('--------------1st variant: End--------------')\n",
    "\n",
    "print('--------------2nd variant: Start--------------')\n",
    "for i in range(2,5):\n",
    "    print(i)\n",
    "print('--------------2nd variant: End--------------')\n",
    "\n",
    "\n",
    "print('--------------3rd variant: Start--------------')\n",
    "for i in range(0,10,2):\n",
    "\n",
    "    print(i)\n",
    "print('--------------3rd variant: End--------------')\n",
    "\n"
   ]
  },
  {
   "cell_type": "code",
   "execution_count": 8,
   "metadata": {},
   "outputs": [
    {
     "name": "stdout",
     "output_type": "stream",
     "text": [
      "--------------While loop start--------------\n",
      "5\n",
      "4\n",
      "3\n",
      "2\n",
      "1\n",
      "--------------While loop End--------------\n",
      "--------------Do-While loop start--------------\n",
      "1\n",
      "2\n",
      "3\n",
      "4\n",
      "5\n",
      "--------------Do-While loop end--------------\n"
     ]
    }
   ],
   "source": [
    "#While loop\n",
    "#Python does not support do-while but just the while loop\n",
    "\n",
    "counter = 5\n",
    "print(\"--------------While loop start--------------\")\n",
    "while(counter > 0):\n",
    "    print(counter)\n",
    "    counter-=1\n",
    "print(\"--------------While loop End--------------\")\n",
    "\n",
    "\n",
    "#Python does not support do while but we can work around with that like below:\n",
    "print(\"--------------Do-While loop start--------------\")\n",
    "i = 1  \n",
    "  \n",
    "while True:  \n",
    "    print(i)  \n",
    "    i = i + 1  \n",
    "    if(i > 5):  \n",
    "        break  \n",
    "        \n",
    "print(\"--------------Do-While loop end--------------\")"
   ]
  },
  {
   "cell_type": "code",
   "execution_count": 16,
   "metadata": {},
   "outputs": [
    {
     "name": "stdout",
     "output_type": "stream",
     "text": [
      "0.6921751687510147\n",
      "0.36467779087742547\n",
      "0.0814332029354573\n",
      "0.5985233117317275\n",
      "0.06259105186956981\n",
      "8\n",
      "7\n",
      "10\n",
      "9\n",
      "6\n",
      "2\n",
      "9\n",
      "4\n",
      "1\n",
      "7\n"
     ]
    }
   ],
   "source": [
    "#Generating random numbers  in Python\n",
    "#random module in python generates random numbers\n",
    "\n",
    "import random\n",
    "\n",
    "counter = 5\n",
    "while(counter > 0):\n",
    "    #random.random() prints the random number r, such that 0 <= r < 1\n",
    "    print(random.random())\n",
    "    counter-=1\n",
    "        \n",
    "counter = 10\n",
    "while(counter > 0):\n",
    "    #random.random() prints the random number r, such that 0 <= r < 1\n",
    "    print(random.randint(1,10))\n",
    "    counter-=1"
   ]
  },
  {
   "cell_type": "code",
   "execution_count": 68,
   "metadata": {},
   "outputs": [
    {
     "name": "stdout",
     "output_type": "stream",
     "text": [
      "Praveen Gaur\n",
      "32\n",
      "New Name\n",
      "New Age\n"
     ]
    }
   ],
   "source": [
    "##\n",
    "# Classes & objects\n",
    "##\n",
    "class Person:\n",
    "    \n",
    "    def __init__(self, name, age):\n",
    "        self.name = name\n",
    "        self.age = age\n",
    "\n",
    "class ChangeParameters:\n",
    "    obj = Person('Praveen Gaur', 32)\n",
    "    print(obj.name)\n",
    "    print(obj.age) \n",
    "    #changing the values\n",
    "    obj.name = 'New Name'\n",
    "    obj.age = 'New Age'\n",
    "    print(obj.name)\n",
    "    print(obj.age) \n"
   ]
  },
  {
   "cell_type": "code",
   "execution_count": 82,
   "metadata": {},
   "outputs": [
    {
     "name": "stdout",
     "output_type": "stream",
     "text": [
      "Praveen Gaur\n",
      "32\n",
      "Praveen Gaur\n",
      "32\n",
      "new name\n",
      "new age\n"
     ]
    }
   ],
   "source": [
    "#But this is not a good idea to expose the parameters to the external code so that the values can be changed from outside, we should declare the variables as private\n",
    "# Rewriting the above code in more safe way\n",
    "#Classes & objects\n",
    "class Person:\n",
    "    \n",
    "    def __init__(self, name, age):\n",
    "        self.__name = name\n",
    "        self.__age = age\n",
    "        \n",
    "    def defineObject(obj):\n",
    "        print(obj.__name)\n",
    "        print(obj.__age)\n",
    "    \n",
    "    def redefineValues(self, name, age):\n",
    "        self.__name = name\n",
    "        self.__age = age\n",
    "        \n",
    "class ChangeParameters:\n",
    "    obj = Person('Praveen Gaur', 32)\n",
    "    obj.defineObject()\n",
    "    \n",
    "    #changing the values is not allowed, following code will not change the values\n",
    "    obj.__name = 'new value'\n",
    "    obj.__age = 'new value'\n",
    "    obj.defineObject()\n",
    "    \n",
    "    #but the values can only be changed when accessed from inside the class\n",
    "    obj.redefineValues('new name', 'new age')\n",
    "    obj.defineObject()"
   ]
  },
  {
   "cell_type": "code",
   "execution_count": 89,
   "metadata": {
    "scrolled": true
   },
   "outputs": [
    {
     "name": "stdout",
     "output_type": "stream",
     "text": [
      "1\n",
      "Praveen\n",
      "Deepak\n"
     ]
    }
   ],
   "source": [
    "#Methods can be called in 2 ways, by using the class name or by using the object itself\n",
    "#1: Calling a method using the class name, in this type you do not have to define a extra argument in the method definition\n",
    "class Definition:\n",
    "    def callingMethod(argument):\n",
    "        print(argument)\n",
    "\n",
    "object = Definition()\n",
    "Definition.callingMethod(1)#Calling the methos using the class name\n",
    "    \n",
    "\n",
    "        \n",
    "#2: Calling a method using the object variable, in this type you have to define an extra argument in the method definition\n",
    "class Definition:\n",
    "    def callingMethod(self):\n",
    "        print(self.name)\n",
    "    def __init__(self, arg):\n",
    "        self.name = arg\n",
    "        \n",
    "object_1 = Definition('Praveen')\n",
    "object_2 = Definition('Deepak')\n",
    "object_1.callingMethod()#Calling the methos using the class name\n",
    "object_2.callingMethod()#Calling the methos using the class name"
   ]
  },
  {
   "cell_type": "markdown",
   "metadata": {},
   "source": [
    "# Oprator Overloading\n",
    "Oprator overloading is a powerful feature using which you can overridge the default behavior of opeartors. For instance if you want your class(Circle) to define the way how 2 circles can be added or to check if two circles are equal or not.\n",
    "\n",
    "Following operators can be overloaded with the provided method name:\n",
    "\n",
    "+ \t  __add__(self, other) \t Addition\n",
    "* \t  __mul__(self, other) \t Multiplication\n",
    "- \t  __sub__(self, other) \t Subtraction\n",
    "% \t  __mod__(self, other) \t Remainder\n",
    "/ \t  __truediv__(self, other) \t Division\n",
    "< \t  __lt__(self, other) \t Less than\n",
    "<= \t  __le__(self, other) \t Less than or equal to\n",
    "== \t  __eq__(self, other) \t Equal to\n",
    "!= \t  __ne__(self, other) \t Not equal to\n",
    "> \t  __gt__(self, other) \tGreater than\n",
    ">= \t  __ge__(self, other) \t Greater than or equal to\n",
    "[index] \t  __getitem__(self, index) \t Index operator\n",
    "in \t  __contains__(self, value) \tCheck membership\n",
    "len \t__len__(self) \t The number of elements\n",
    "str \t__str__(self) \t The string representation"
   ]
  },
  {
   "cell_type": "code",
   "execution_count": 126,
   "metadata": {},
   "outputs": [
    {
     "name": "stdout",
     "output_type": "stream",
     "text": [
      "circle_1 area is : 12.566370614359172\n",
      "circle_2 area is : 50.26548245743669\n",
      "Combined area of two circles is : 62.83185307179586\n",
      "Are 2 circles equal: False\n"
     ]
    }
   ],
   "source": [
    "\n",
    "import math\n",
    "class Circle:\n",
    "    \n",
    "    def __init__(self,argument):\n",
    "        self.__radius = argument\n",
    "       # self.__area = area()\n",
    "    \n",
    "    def area(self):\n",
    "        area = math.pi * self.__radius ** 2\n",
    "        self.__area = area\n",
    "        return area\n",
    "    def __add__(self, anotherCircle):\n",
    "        return ((self.__area + anotherCircle.__area))\n",
    "    def __eq__(self, anotherCircle):\n",
    "        if(self.__area is not None and anotherCircle.__area is not None):\n",
    "            return (self.__area == anotherCircle.__area)\n",
    "        \n",
    "circle_1 = Circle(2)\n",
    "print(\"circle_1 area is : \" + str(circle_1.area()))\n",
    "circle_2 = Circle(4)\n",
    "print(\"circle_2 area is : \" + str(circle_2.area()))\n",
    "print(\"Combined area of two circles is : \" + str(circle_1 + circle_2))\n",
    "print(\"Are 2 circles equal: \" + str(circle_1 == circle_2))\n"
   ]
  },
  {
   "cell_type": "markdown",
   "metadata": {},
   "source": [
    "## Inheritance & Polymorphism\n",
    "\n",
    "Just like any other object oriented programming language, Pyhton also supports inheritance but if you are coming from Java, then there is a big surprise, it supports multiple inheritance i.e. one subclass inheriting two different parent classes.\n",
    "\n"
   ]
  },
  {
   "cell_type": "code",
   "execution_count": 130,
   "metadata": {},
   "outputs": [
    {
     "name": "stdout",
     "output_type": "stream",
     "text": [
      "This is a car, specifications: \n",
      "name: Skoda\n",
      "color: black\n",
      "numberOfWheels: 4\n",
      "engineSize: 2600\n",
      "numberOfDoors: 4\n"
     ]
    }
   ],
   "source": [
    "##\n",
    "# Inheritance - showing extending a class\n",
    "##\n",
    "\n",
    "class Vehicle:\n",
    "    def __init__(self, name, color):\n",
    "        self.__name = name\n",
    "        self.__color = color\n",
    "    \n",
    "    def getColor(self):\n",
    "        return self.__color\n",
    "    \n",
    "    def getName(self):\n",
    "        return self.__name\n",
    "    \n",
    "class Car(Vehicle):\n",
    "    def __init__(self, name, color, numberOfWheels, engineSize, numberOfDoors):\n",
    "        super().__init__(name, color)#calling the parent constructor\n",
    "        self.__numberOfWheels = numberOfWheels\n",
    "        self.__engineSize = engineSize\n",
    "        self.__numberOfDoors = numberOfDoors\n",
    "    \n",
    "    def getNumberOfWheels(self):\n",
    "        return self.__numberOfWheels\n",
    "    \n",
    "    def getEngineSize(self):\n",
    "        return self.__engineSize\n",
    "    \n",
    "    def getNumberOfDoors(self):\n",
    "        return self.__numberOfDoors\n",
    "    \n",
    "    def defineCar(self):\n",
    "        print(\"This is a car, specifications: \")\n",
    "        print(\"name: \" + self.getName())\n",
    "        print(\"color: \" + self.getColor())\n",
    "        print(\"numberOfWheels: \" + self.getNumberOfWheels())\n",
    "        print(\"engineSize: \" + self.getEngineSize())\n",
    "        print(\"numberOfDoors: \" + self.getNumberOfDoors())\n",
    "        \n",
    "car = Car('Skoda', 'black', '4','2600', '4')\n",
    "car.defineCar()"
   ]
  },
  {
   "cell_type": "code",
   "execution_count": 146,
   "metadata": {},
   "outputs": [
    {
     "name": "stdout",
     "output_type": "stream",
     "text": [
      "[<class '__main__.Child_1'>, <class '__main__.Parent_1'>, <class '__main__.Parent_2'>, <class 'object'>]\n",
      "[<class '__main__.Child_2'>, <class '__main__.Parent_2'>, <class '__main__.Parent_1'>, <class 'object'>]\n"
     ]
    }
   ],
   "source": [
    "##\n",
    "# Inheritance - showing how multiple inheritance works\n",
    "# MRO - Method Resolution Order\n",
    "# MRO represents the order in which classes will be searched in oredr to execute an overridden method.\n",
    "# MRO defines the presidence path, class appearing first will be picked for execution\n",
    "##\n",
    "\n",
    "class Parent_1:\n",
    "    def define():\n",
    "        print('In class parent_1')\n",
    "        \n",
    "class Parent_2:\n",
    "    def define():\n",
    "        print('In class parent_2')\n",
    "\n",
    "# MRO depends upon the order in which the child class places the parent classes\n",
    "# For Child_1, Parent_1 takes the presidence as it is declared before parent_2\n",
    "# For Child_2, Parent_2 takes the presidence as it is declared before parent_1\n",
    "class Child_1(Parent_1, Parent_2):\n",
    "    def define(self):\n",
    "        self.define()\n",
    "        \n",
    "class Child_2(Parent_2, Parent_1):\n",
    "    def define(self):\n",
    "        self.define()\n",
    "        \n",
    "        \n",
    "print(Child_1.mro())\n",
    "print(Child_2.mro())\n"
   ]
  },
  {
   "cell_type": "code",
   "execution_count": 168,
   "metadata": {},
   "outputs": [
    {
     "name": "stdout",
     "output_type": "stream",
     "text": [
      "MRO is:  [<class '__main__.Child_1'>, <class '__main__.Parent_1'>, <class '__main__.Parent_2'>, <class 'object'>]\n",
      "In class parent_1\n",
      "MRO is:  [<class '__main__.Child_2'>, <class '__main__.Parent_2'>, <class '__main__.Parent_1'>, <class 'object'>]\n",
      "In class parent_2\n",
      "True\n",
      "False\n",
      "True\n",
      "True\n",
      "True\n",
      "False\n"
     ]
    }
   ],
   "source": [
    "##\n",
    "# Inheritance - testing the multiple inheritance\n",
    "# MRO comes in to play\n",
    "##\n",
    "\n",
    "class Parent_1:\n",
    "    def define(self):\n",
    "        print('MRO is: ', Child_1.mro())\n",
    "        print('In class parent_1')\n",
    "        \n",
    "class Parent_2:\n",
    "    def define(self):\n",
    "        print('MRO is: ', Child_2.mro())\n",
    "        print('In class parent_2')\n",
    "\n",
    "# MRO depends upon the order in which the child class places the parent classes\n",
    "# For Child_1, Parent_1 takes the presidence as it is declared before parent_2\n",
    "# For Child_2, Parent_2 takes the presidence as it is declared before parent_1\n",
    "class Child_1(Parent_1, Parent_2):\n",
    "    def define_child(self):\n",
    "        self.define()\n",
    "        \n",
    "class Child_2(Parent_2, Parent_1):\n",
    "    def define_child(self):\n",
    "        self.define()\n",
    "        \n",
    "\n",
    "child_1 = Child_1()\n",
    "child_1.define_child()\n",
    "\n",
    "child_2 = Child_2()\n",
    "child_2.define_child()\n",
    "\n",
    "parent_1 = Parent_1()\n"
   ]
  },
  {
   "cell_type": "code",
   "execution_count": 170,
   "metadata": {},
   "outputs": [
    {
     "name": "stdout",
     "output_type": "stream",
     "text": [
      "True\n",
      "False\n",
      "True\n",
      "True\n",
      "True\n",
      "False\n"
     ]
    }
   ],
   "source": [
    "##\n",
    "# isinstance method checks the if the given object is of given Type or not - it honors the inheritance\n",
    "# have a look at the following examples\n",
    "##\n",
    "print(isinstance(child_1, Child_1))\n",
    "print(isinstance(child_1, Child_2))\n",
    "print(isinstance(child_1, Parent_1))\n",
    "print(isinstance(child_1, Parent_2))\n",
    "print(isinstance(child_1, Parent_2))\n",
    "print(isinstance(parent_1, Child_1))"
   ]
  },
  {
   "cell_type": "markdown",
   "metadata": {},
   "source": [
    "# Exception Handling\n",
    "\n",
    "In this section, we will understand how to catch exceptions & perform required actions\n",
    "Also, will see how to define custom Exception types.\n",
    "\n",
    "More details at https://thepythonguru.com/python-exception-handling/\n",
    "\n",
    "Documentation: https://docs.python.org/3/library/exceptions.html\n"
   ]
  },
  {
   "cell_type": "code",
   "execution_count": 9,
   "metadata": {},
   "outputs": [
    {
     "name": "stdout",
     "output_type": "stream",
     "text": [
      "Divide by zero is not allowed:  division by zero\n",
      "Inside finally\n"
     ]
    }
   ],
   "source": [
    "class DivideHelper:\n",
    "    def divide(numerator, denominator):\n",
    "        result = None\n",
    "        try:\n",
    "            result = numerator/denominator\n",
    "        except ZeroDivisionError as zError:\n",
    "            print('Divide by zero is not allowed: ',zError)\n",
    "        except FloatingPointError as fError:\n",
    "            print('Floating point error')\n",
    "        else:\n",
    "            print('End of try/catch block')\n",
    "        finally:\n",
    "            print('Inside finally')\n",
    "            return result\n",
    "\n",
    "#DivideHelper.divide(2,4)\n",
    "DivideHelper.divide(2,0)"
   ]
  },
  {
   "cell_type": "markdown",
   "metadata": {},
   "source": [
    "# Declaring the custom exception type\n",
    "Pyhton supports the custom exception type, for that you need to extend one of the system exception classes. BaseException class is the top exception class, you can extend this class to create custom exception also, if the custom exception is little focused then you can extend one of the other classes as well like: FloatingPointError, EOFError and others.\n",
    "\n",
    "More details at https://thepythonguru.com/python-exception-handling/\n",
    "\n",
    "Documentation: https://docs.python.org/3/library/exceptions.html\n"
   ]
  },
  {
   "cell_type": "code",
   "execution_count": null,
   "metadata": {},
   "outputs": [],
   "source": [
    "##\n",
    "# Declaring custom exception class which inherits ZeroDivisionError, it checks for denominator for 0 & also checks if either numerator or denominator < 0\n",
    "##"
   ]
  },
  {
   "cell_type": "code",
   "execution_count": 11,
   "metadata": {},
   "outputs": [
    {
     "name": "stdout",
     "output_type": "stream",
     "text": [
      "inside if\n",
      "2\n",
      "numerator & denominator have to be greater than zero\n",
      "Inside finally\n"
     ]
    }
   ],
   "source": [
    "class CustomNumberException(ArithmeticError):\n",
    "    def __init__(self,numerator, denominator):\n",
    "        super().__init__()\n",
    "        print(numerator)\n",
    "        if(numerator < 0 or denominator < 0):\n",
    "            print('numerator & denominator have to be greater than zero')\n",
    "\n",
    "class DivideHelper:\n",
    "    def divide(numerator, denominator):\n",
    "        \n",
    "        result = None\n",
    "        try:\n",
    "            if(numerator < 0 or denominator < 0):\n",
    "                print('inside if')\n",
    "                raise CustomNumberException(numerator, denominator)\n",
    "            result = numerator/denominator\n",
    "        except ZeroDivisionError as zError:\n",
    "            print('Divide by zero is not allowed: ',zError)\n",
    "        except FloatingPointError as fError:\n",
    "            print('Floating point error')\n",
    "        else:\n",
    "            print('End of try/catch block')\n",
    "        finally:\n",
    "            print('Inside finally')\n",
    "            return result\n",
    "\n",
    "#DivideHelper.divide(2,4)\n",
    "DivideHelper.divide(2,-1)\n"
   ]
  },
  {
   "cell_type": "code",
   "execution_count": null,
   "metadata": {},
   "outputs": [],
   "source": []
  },
  {
   "cell_type": "code",
   "execution_count": null,
   "metadata": {},
   "outputs": [],
   "source": []
  },
  {
   "cell_type": "code",
   "execution_count": null,
   "metadata": {},
   "outputs": [],
   "source": []
  },
  {
   "cell_type": "code",
   "execution_count": null,
   "metadata": {},
   "outputs": [],
   "source": []
  },
  {
   "cell_type": "code",
   "execution_count": null,
   "metadata": {},
   "outputs": [],
   "source": []
  },
  {
   "cell_type": "code",
   "execution_count": null,
   "metadata": {},
   "outputs": [],
   "source": []
  },
  {
   "cell_type": "code",
   "execution_count": null,
   "metadata": {},
   "outputs": [],
   "source": []
  },
  {
   "cell_type": "code",
   "execution_count": null,
   "metadata": {},
   "outputs": [],
   "source": []
  },
  {
   "cell_type": "code",
   "execution_count": null,
   "metadata": {},
   "outputs": [],
   "source": []
  },
  {
   "cell_type": "code",
   "execution_count": null,
   "metadata": {},
   "outputs": [],
   "source": []
  },
  {
   "cell_type": "code",
   "execution_count": null,
   "metadata": {},
   "outputs": [],
   "source": []
  },
  {
   "cell_type": "code",
   "execution_count": null,
   "metadata": {},
   "outputs": [],
   "source": []
  },
  {
   "cell_type": "code",
   "execution_count": null,
   "metadata": {},
   "outputs": [],
   "source": []
  },
  {
   "cell_type": "code",
   "execution_count": null,
   "metadata": {},
   "outputs": [],
   "source": []
  },
  {
   "cell_type": "code",
   "execution_count": null,
   "metadata": {},
   "outputs": [],
   "source": []
  },
  {
   "cell_type": "code",
   "execution_count": null,
   "metadata": {},
   "outputs": [],
   "source": []
  },
  {
   "cell_type": "code",
   "execution_count": null,
   "metadata": {},
   "outputs": [],
   "source": []
  },
  {
   "cell_type": "code",
   "execution_count": null,
   "metadata": {},
   "outputs": [],
   "source": []
  },
  {
   "cell_type": "code",
   "execution_count": null,
   "metadata": {},
   "outputs": [],
   "source": []
  },
  {
   "cell_type": "code",
   "execution_count": null,
   "metadata": {},
   "outputs": [],
   "source": []
  },
  {
   "cell_type": "code",
   "execution_count": null,
   "metadata": {},
   "outputs": [],
   "source": []
  },
  {
   "cell_type": "code",
   "execution_count": null,
   "metadata": {},
   "outputs": [],
   "source": []
  },
  {
   "cell_type": "code",
   "execution_count": null,
   "metadata": {},
   "outputs": [],
   "source": []
  },
  {
   "cell_type": "code",
   "execution_count": null,
   "metadata": {},
   "outputs": [],
   "source": []
  },
  {
   "cell_type": "code",
   "execution_count": null,
   "metadata": {},
   "outputs": [],
   "source": []
  },
  {
   "cell_type": "code",
   "execution_count": null,
   "metadata": {},
   "outputs": [],
   "source": []
  },
  {
   "cell_type": "code",
   "execution_count": null,
   "metadata": {},
   "outputs": [],
   "source": []
  },
  {
   "cell_type": "code",
   "execution_count": null,
   "metadata": {},
   "outputs": [],
   "source": []
  },
  {
   "cell_type": "code",
   "execution_count": null,
   "metadata": {},
   "outputs": [],
   "source": []
  },
  {
   "cell_type": "code",
   "execution_count": null,
   "metadata": {},
   "outputs": [],
   "source": []
  },
  {
   "cell_type": "code",
   "execution_count": null,
   "metadata": {},
   "outputs": [],
   "source": []
  }
 ],
 "metadata": {
  "kernelspec": {
   "display_name": "Python 3",
   "language": "python",
   "name": "python3"
  },
  "language_info": {
   "codemirror_mode": {
    "name": "ipython",
    "version": 3
   },
   "file_extension": ".py",
   "mimetype": "text/x-python",
   "name": "python",
   "nbconvert_exporter": "python",
   "pygments_lexer": "ipython3",
   "version": "3.7.0"
  }
 },
 "nbformat": 4,
 "nbformat_minor": 2
}
